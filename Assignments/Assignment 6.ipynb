{
 "cells": [
  {
   "cell_type": "markdown",
   "id": "1760c405",
   "metadata": {},
   "source": [
    "# ASSIGNMENT 6"
   ]
  },
  {
   "cell_type": "markdown",
   "id": "825583b6",
   "metadata": {},
   "source": [
    "# SUMMARIZATION"
   ]
  },
  {
   "cell_type": "code",
   "execution_count": 39,
   "id": "19f0e87d",
   "metadata": {},
   "outputs": [],
   "source": [
    "# Importing library\n",
    "\n",
    "from nltk.corpus import stopwords #you can remove stop words for speed\n",
    "from nltk.cluster.util import cosine_distance\n",
    "import numpy as np\n",
    "import networkx as nx"
   ]
  },
  {
   "cell_type": "code",
   "execution_count": 40,
   "id": "4ba1d17a",
   "metadata": {},
   "outputs": [
    {
     "name": "stdout",
     "output_type": "stream",
     "text": [
      "Η ανθρώπινη φύση πάντα έχει αναζητήσει την απάντηση σε ερωτήσεις που αγγίζουν την ουσία της ύπαρξής της.\n",
      "Ο πολιτισμός αναδύεται από τον αρχαϊκό του βάθος και διαμορφώνει τη συλλογική μας ταυτότητα.\n",
      "Κάθε γενιά κληρονομεί την ιστορία της πατρίδας της και την ενσωματώνει στη δική της πραγματικότητα.\n",
      "Ο διάλογος μεταξύ των γενεών είναι ένας σημαντικός τρόπος να διατηρούμε ζωντανή τη μνήμη των προγόνων μας και να αναπτύσσουμε την κριτική μας σκέψη.\n",
      "Το πνεύμα της εξερεύν\n"
     ]
    }
   ],
   "source": [
    "import spacy\n",
    "nlp = spacy.load(\"el_core_news_sm\")\n",
    "text = \"Η ανθρώπινη φύση πάντα έχει αναζητήσει την απάντηση σε ερωτήσεις που αγγίζουν την ουσία της ύπαρξής της. Ο πολιτισμός αναδύεται από τον αρχαϊκό του βάθος και διαμορφώνει τη συλλογική μας ταυτότητα. Κάθε γενιά κληρονομεί την ιστορία της πατρίδας της και την ενσωματώνει στη δική της πραγματικότητα. Ο διάλογος μεταξύ των γενεών είναι ένας σημαντικός τρόπος να διατηρούμε ζωντανή τη μνήμη των προγόνων μας και να αναπτύσσουμε την κριτική μας σκέψη. Το πνεύμα της εξερεύν\"\n",
    "doc = nlp(text)\n",
    "paragraph = list(doc.sents)\n",
    "sentences = []\n",
    "for sentence in paragraph:\n",
    "    print(sentence.text)\n",
    "    sentences.append(sentence.text.replace(\"[^a-zA-Z]\", \" \").split(\" \"))\n",
    "\n",
    "\n"
   ]
  },
  {
   "cell_type": "code",
   "execution_count": 41,
   "id": "f2fe3b13",
   "metadata": {},
   "outputs": [
    {
     "name": "stdout",
     "output_type": "stream",
     "text": [
      "Sentences are  [['Η', 'ανθρώπινη', 'φύση', 'πάντα', 'έχει', 'αναζητήσει', 'την', 'απάντηση', 'σε', 'ερωτήσεις', 'που', 'αγγίζουν', 'την', 'ουσία', 'της', 'ύπαρξής', 'της.'], ['Ο', 'πολιτισμός', 'αναδύεται', 'από', 'τον', 'αρχαϊκό', 'του', 'βάθος', 'και', 'διαμορφώνει', 'τη', 'συλλογική', 'μας', 'ταυτότητα.'], ['Κάθε', 'γενιά', 'κληρονομεί', 'την', 'ιστορία', 'της', 'πατρίδας', 'της', 'και', 'την', 'ενσωματώνει', 'στη', 'δική', 'της', 'πραγματικότητα.'], ['Ο', 'διάλογος', 'μεταξύ', 'των', 'γενεών', 'είναι', 'ένας', 'σημαντικός', 'τρόπος', 'να', 'διατηρούμε', 'ζωντανή', 'τη', 'μνήμη', 'των', 'προγόνων', 'μας', 'και', 'να', 'αναπτύσσουμε', 'την', 'κριτική', 'μας', 'σκέψη.'], ['Το', 'πνεύμα', 'της', 'εξερεύν']]\n"
     ]
    }
   ],
   "source": [
    "# Our data: a list of sentences\n",
    "\n",
    "print(\"Sentences are \", sentences)"
   ]
  },
  {
   "cell_type": "code",
   "execution_count": 42,
   "id": "c959055e",
   "metadata": {},
   "outputs": [],
   "source": [
    "# Function to calculate similarity (count the number of common words)\n",
    "\n",
    "def sentence_similarity(sent1, sent2 ):\n",
    "    sent1 = [w.lower() for w in sent1]\n",
    "    sent2 = [w.lower() for w in sent2]\n",
    "    all_words = list(set(sent1 + sent2))\n",
    "    vector1 = [0] * len(all_words)\n",
    "    vector2 = [0] * len(all_words)\n",
    "    # build the vector for the first sentence\n",
    "    for w in sent1:\n",
    "        vector1[all_words.index(w)] += 1\n",
    "    # build the vector for the second sentence\n",
    "    for w in sent2:\n",
    "        vector2[all_words.index(w)] += 1\n",
    "    return 1 - cosine_distance(vector1, vector2)"
   ]
  },
  {
   "cell_type": "code",
   "execution_count": 43,
   "id": "60b265df",
   "metadata": {},
   "outputs": [
    {
     "name": "stdout",
     "output_type": "stream",
     "text": [
      "Smilarity matrix \n",
      " [[0.         0.         0.33485541 0.08377078 0.11470787]\n",
      " [0.         0.         0.05572782 0.24397502 0.        ]\n",
      " [0.33485541 0.05572782 0.         0.11420805 0.31277162]\n",
      " [0.08377078 0.24397502 0.11420805 0.         0.        ]\n",
      " [0.11470787 0.         0.31277162 0.         0.        ]]\n"
     ]
    }
   ],
   "source": [
    "# Create the similarity matrix \n",
    "\n",
    "similarity_matrix = np.zeros((len(sentences), len(sentences)))\n",
    "for idx1 in range(len(sentences)):\n",
    "    for idx2 in range(len(sentences)):\n",
    "        if idx1 == idx2: #ignore if both are same sentences\n",
    "            continue\n",
    "        similarity_matrix[idx1][idx2] = sentence_similarity(sentences[idx1],\n",
    "sentences[idx2])\n",
    "print(\"Smilarity matrix \\n\", similarity_matrix)"
   ]
  },
  {
   "cell_type": "code",
   "execution_count": 44,
   "id": "e497c188",
   "metadata": {},
   "outputs": [
    {
     "name": "stdout",
     "output_type": "stream",
     "text": [
      "scores {0: 0.20459929911077915, 1: 0.13566618846904896, 2: 0.3055154815934063, 3: 0.18746739525334463, 4: 0.16675163557342107}\n"
     ]
    }
   ],
   "source": [
    "# Get the pagerank scores\n",
    "# Step 3 - Rank sentences in similarity martix\n",
    "\n",
    "sentence_similarity_graph = nx.from_numpy_array(similarity_matrix)\n",
    "scores = nx.pagerank(sentence_similarity_graph)\n",
    "print(\"scores\", scores)"
   ]
  },
  {
   "cell_type": "code",
   "execution_count": 45,
   "id": "cc37b041",
   "metadata": {},
   "outputs": [
    {
     "name": "stdout",
     "output_type": "stream",
     "text": [
      "Indexes of top ranked_sentence order are \n",
      "\n",
      " [(0.3055154815934063, ['Κάθε', 'γενιά', 'κληρονομεί', 'την', 'ιστορία', 'της', 'πατρίδας', 'της', 'και', 'την', 'ενσωματώνει', 'στη', 'δική', 'της', 'πραγματικότητα.']), (0.20459929911077915, ['Η', 'ανθρώπινη', 'φύση', 'πάντα', 'έχει', 'αναζητήσει', 'την', 'απάντηση', 'σε', 'ερωτήσεις', 'που', 'αγγίζουν', 'την', 'ουσία', 'της', 'ύπαρξής', 'της.']), (0.18746739525334463, ['Ο', 'διάλογος', 'μεταξύ', 'των', 'γενεών', 'είναι', 'ένας', 'σημαντικός', 'τρόπος', 'να', 'διατηρούμε', 'ζωντανή', 'τη', 'μνήμη', 'των', 'προγόνων', 'μας', 'και', 'να', 'αναπτύσσουμε', 'την', 'κριτική', 'μας', 'σκέψη.']), (0.16675163557342107, ['Το', 'πνεύμα', 'της', 'εξερεύν']), (0.13566618846904896, ['Ο', 'πολιτισμός', 'αναδύεται', 'από', 'τον', 'αρχαϊκό', 'του', 'βάθος', 'και', 'διαμορφώνει', 'τη', 'συλλογική', 'μας', 'ταυτότητα.'])]\n"
     ]
    }
   ],
   "source": [
    "# Sort sentences by pagerank\n",
    "# Step 4 - Sort the rank and pick top sentences\n",
    "\n",
    "ranked_sentence = sorted(((scores[i],s) for i,s in\n",
    "enumerate(sentences)), reverse=True)\n",
    "print(\"Indexes of top ranked_sentence order are \\n\\n\",\n",
    "ranked_sentence)"
   ]
  },
  {
   "cell_type": "code",
   "execution_count": 46,
   "id": "e3bf7ab5",
   "metadata": {},
   "outputs": [
    {
     "name": "stdout",
     "output_type": "stream",
     "text": [
      "How many sentences do you want in the summary? 2\n"
     ]
    }
   ],
   "source": [
    "# Pick the top “n” sentences\n",
    "# Step 5 - How many sentences to pick\n",
    "\n",
    "n = int(input(\"How many sentences do you want in the summary? \"))\n",
    "#n=2\n",
    "summarize_text = []\n",
    "for i in range(n):\n",
    "    summarize_text.append(\" \".join(ranked_sentence[i][1]))"
   ]
  },
  {
   "cell_type": "code",
   "execution_count": 47,
   "id": "27bddce1",
   "metadata": {},
   "outputs": [
    {
     "name": "stdout",
     "output_type": "stream",
     "text": [
      "Summarize Text: \n",
      " Κάθε γενιά κληρονομεί την ιστορία της πατρίδας της και την ενσωματώνει στη δική της πραγματικότητα.. Η ανθρώπινη φύση πάντα έχει αναζητήσει την απάντηση σε ερωτήσεις που αγγίζουν την ουσία της ύπαρξής της.\n"
     ]
    }
   ],
   "source": [
    "# Finish off by printing summary\n",
    "# Step 6 - Offcourse, output the summarize text\n",
    "\n",
    "print(\"Summarize Text: \\n\", \". \".join(summarize_text))"
   ]
  }
 ],
 "metadata": {
  "kernelspec": {
   "display_name": "Python 3 (ipykernel)",
   "language": "python",
   "name": "python3"
  },
  "language_info": {
   "codemirror_mode": {
    "name": "ipython",
    "version": 3
   },
   "file_extension": ".py",
   "mimetype": "text/x-python",
   "name": "python",
   "nbconvert_exporter": "python",
   "pygments_lexer": "ipython3",
   "version": "3.11.5"
  }
 },
 "nbformat": 4,
 "nbformat_minor": 5
}
