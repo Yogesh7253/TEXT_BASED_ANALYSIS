{
 "cells": [
  {
   "cell_type": "markdown",
   "id": "6cdffa25",
   "metadata": {},
   "source": [
    "# ASSIGNMENT 6"
   ]
  },
  {
   "cell_type": "markdown",
   "id": "d049fd6e",
   "metadata": {},
   "source": [
    "# SUMMARIZATION"
   ]
  },
  {
   "cell_type": "markdown",
   "id": "fa6e5e89",
   "metadata": {},
   "source": [
    "# GREEK"
   ]
  },
  {
   "cell_type": "code",
   "execution_count": 6,
   "id": "a5129975",
   "metadata": {},
   "outputs": [],
   "source": [
    "# Importing library\n",
    "\n",
    "from nltk.corpus import stopwords #you can remove stop words for speed\n",
    "from nltk.cluster.util import cosine_distance\n",
    "import numpy as np\n",
    "import networkx as nx"
   ]
  },
  {
   "cell_type": "code",
   "execution_count": 7,
   "id": "20334621",
   "metadata": {},
   "outputs": [
    {
     "name": "stdout",
     "output_type": "stream",
     "text": [
      "Η ανθρώπινη φύση πάντα έχει αναζητήσει την απάντηση σε ερωτήσεις που αγγίζουν την ουσία της ύπαρξής της.\n",
      "Ο πολιτισμός αναδύεται από τον αρχαϊκό του βάθος και διαμορφώνει τη συλλογική μας ταυτότητα.\n",
      "Κάθε γενιά κληρονομεί την ιστορία της πατρίδας της και την ενσωματώνει στη δική της πραγματικότητα.\n",
      "Ο διάλογος μεταξύ των γενεών είναι ένας σημαντικός τρόπος να διατηρούμε ζωντανή τη μνήμη των προγόνων μας και να αναπτύσσουμε την κριτική μας σκέψη.\n",
      "Το πνεύμα της εξερεύν\n"
     ]
    }
   ],
   "source": [
    "import spacy\n",
    "nlp = spacy.load(\"el_core_news_sm\")\n",
    "text = \"Η ανθρώπινη φύση πάντα έχει αναζητήσει την απάντηση σε ερωτήσεις που αγγίζουν την ουσία της ύπαρξής της. Ο πολιτισμός αναδύεται από τον αρχαϊκό του βάθος και διαμορφώνει τη συλλογική μας ταυτότητα. Κάθε γενιά κληρονομεί την ιστορία της πατρίδας της και την ενσωματώνει στη δική της πραγματικότητα. Ο διάλογος μεταξύ των γενεών είναι ένας σημαντικός τρόπος να διατηρούμε ζωντανή τη μνήμη των προγόνων μας και να αναπτύσσουμε την κριτική μας σκέψη. Το πνεύμα της εξερεύν\"\n",
    "doc = nlp(text)\n",
    "paragraph = list(doc.sents)\n",
    "sentences = []\n",
    "for sentence in paragraph:\n",
    "    print(sentence.text)\n",
    "    sentences.append(sentence.text.replace(\"[^a-zA-Z]\", \" \").split(\" \"))\n",
    "\n",
    "\n"
   ]
  },
  {
   "cell_type": "code",
   "execution_count": 8,
   "id": "6525b649",
   "metadata": {},
   "outputs": [
    {
     "name": "stdout",
     "output_type": "stream",
     "text": [
      "Sentences are  [['Η', 'ανθρώπινη', 'φύση', 'πάντα', 'έχει', 'αναζητήσει', 'την', 'απάντηση', 'σε', 'ερωτήσεις', 'που', 'αγγίζουν', 'την', 'ουσία', 'της', 'ύπαρξής', 'της.'], ['Ο', 'πολιτισμός', 'αναδύεται', 'από', 'τον', 'αρχαϊκό', 'του', 'βάθος', 'και', 'διαμορφώνει', 'τη', 'συλλογική', 'μας', 'ταυτότητα.'], ['Κάθε', 'γενιά', 'κληρονομεί', 'την', 'ιστορία', 'της', 'πατρίδας', 'της', 'και', 'την', 'ενσωματώνει', 'στη', 'δική', 'της', 'πραγματικότητα.'], ['Ο', 'διάλογος', 'μεταξύ', 'των', 'γενεών', 'είναι', 'ένας', 'σημαντικός', 'τρόπος', 'να', 'διατηρούμε', 'ζωντανή', 'τη', 'μνήμη', 'των', 'προγόνων', 'μας', 'και', 'να', 'αναπτύσσουμε', 'την', 'κριτική', 'μας', 'σκέψη.'], ['Το', 'πνεύμα', 'της', 'εξερεύν']]\n"
     ]
    }
   ],
   "source": [
    "# Our data: a list of sentences\n",
    "\n",
    "print(\"Sentences are \", sentences)"
   ]
  },
  {
   "cell_type": "code",
   "execution_count": 9,
   "id": "c5ee1b58",
   "metadata": {},
   "outputs": [],
   "source": [
    "# Function to calculate similarity (count the number of common words)\n",
    "\n",
    "def sentence_similarity(sent1, sent2 ):\n",
    "    sent1 = [w.lower() for w in sent1]\n",
    "    sent2 = [w.lower() for w in sent2]\n",
    "    all_words = list(set(sent1 + sent2))\n",
    "    vector1 = [0] * len(all_words)\n",
    "    vector2 = [0] * len(all_words)\n",
    "    # build the vector for the first sentence\n",
    "    for w in sent1:\n",
    "        vector1[all_words.index(w)] += 1\n",
    "    # build the vector for the second sentence\n",
    "    for w in sent2:\n",
    "        vector2[all_words.index(w)] += 1\n",
    "    return 1 - cosine_distance(vector1, vector2)"
   ]
  },
  {
   "cell_type": "code",
   "execution_count": 10,
   "id": "6b1f3e41",
   "metadata": {},
   "outputs": [
    {
     "name": "stdout",
     "output_type": "stream",
     "text": [
      "Smilarity matrix \n",
      " [[0.         0.         0.33485541 0.08377078 0.11470787]\n",
      " [0.         0.         0.05572782 0.24397502 0.        ]\n",
      " [0.33485541 0.05572782 0.         0.11420805 0.31277162]\n",
      " [0.08377078 0.24397502 0.11420805 0.         0.        ]\n",
      " [0.11470787 0.         0.31277162 0.         0.        ]]\n"
     ]
    }
   ],
   "source": [
    "# Create the similarity matrix \n",
    "\n",
    "similarity_matrix = np.zeros((len(sentences), len(sentences)))\n",
    "for idx1 in range(len(sentences)):\n",
    "    for idx2 in range(len(sentences)):\n",
    "        if idx1 == idx2: #ignore if both are same sentences\n",
    "            continue\n",
    "        similarity_matrix[idx1][idx2] = sentence_similarity(sentences[idx1],\n",
    "sentences[idx2])\n",
    "print(\"Smilarity matrix \\n\", similarity_matrix)"
   ]
  },
  {
   "cell_type": "code",
   "execution_count": 11,
   "id": "c0faba4b",
   "metadata": {},
   "outputs": [
    {
     "name": "stdout",
     "output_type": "stream",
     "text": [
      "scores {0: 0.20459929911077915, 1: 0.13566618846904896, 2: 0.3055154815934063, 3: 0.18746739525334463, 4: 0.16675163557342107}\n"
     ]
    }
   ],
   "source": [
    "# Get the pagerank scores\n",
    "# Step 3 - Rank sentences in similarity martix\n",
    "\n",
    "sentence_similarity_graph = nx.from_numpy_array(similarity_matrix)\n",
    "scores = nx.pagerank(sentence_similarity_graph)\n",
    "print(\"scores\", scores)"
   ]
  },
  {
   "cell_type": "code",
   "execution_count": 12,
   "id": "aff01b29",
   "metadata": {},
   "outputs": [
    {
     "name": "stdout",
     "output_type": "stream",
     "text": [
      "Indexes of top ranked_sentence order are \n",
      "\n",
      " [(0.3055154815934063, ['Κάθε', 'γενιά', 'κληρονομεί', 'την', 'ιστορία', 'της', 'πατρίδας', 'της', 'και', 'την', 'ενσωματώνει', 'στη', 'δική', 'της', 'πραγματικότητα.']), (0.20459929911077915, ['Η', 'ανθρώπινη', 'φύση', 'πάντα', 'έχει', 'αναζητήσει', 'την', 'απάντηση', 'σε', 'ερωτήσεις', 'που', 'αγγίζουν', 'την', 'ουσία', 'της', 'ύπαρξής', 'της.']), (0.18746739525334463, ['Ο', 'διάλογος', 'μεταξύ', 'των', 'γενεών', 'είναι', 'ένας', 'σημαντικός', 'τρόπος', 'να', 'διατηρούμε', 'ζωντανή', 'τη', 'μνήμη', 'των', 'προγόνων', 'μας', 'και', 'να', 'αναπτύσσουμε', 'την', 'κριτική', 'μας', 'σκέψη.']), (0.16675163557342107, ['Το', 'πνεύμα', 'της', 'εξερεύν']), (0.13566618846904896, ['Ο', 'πολιτισμός', 'αναδύεται', 'από', 'τον', 'αρχαϊκό', 'του', 'βάθος', 'και', 'διαμορφώνει', 'τη', 'συλλογική', 'μας', 'ταυτότητα.'])]\n"
     ]
    }
   ],
   "source": [
    "# Sort sentences by pagerank\n",
    "# Step 4 - Sort the rank and pick top sentences\n",
    "\n",
    "ranked_sentence = sorted(((scores[i],s) for i,s in\n",
    "enumerate(sentences)), reverse=True)\n",
    "print(\"Indexes of top ranked_sentence order are \\n\\n\",\n",
    "ranked_sentence)"
   ]
  },
  {
   "cell_type": "code",
   "execution_count": 13,
   "id": "06c9b32a",
   "metadata": {},
   "outputs": [
    {
     "name": "stdout",
     "output_type": "stream",
     "text": [
      "How many sentences do you want in the summary? 2\n"
     ]
    }
   ],
   "source": [
    "# Pick the top “n” sentences\n",
    "# Step 5 - How many sentences to pick\n",
    "\n",
    "n = int(input(\"How many sentences do you want in the summary? \"))\n",
    "#n=2\n",
    "summarize_text = []\n",
    "for i in range(n):\n",
    "    summarize_text.append(\" \".join(ranked_sentence[i][1]))"
   ]
  },
  {
   "cell_type": "code",
   "execution_count": 14,
   "id": "5da3728b",
   "metadata": {},
   "outputs": [
    {
     "name": "stdout",
     "output_type": "stream",
     "text": [
      "Summarize Text: \n",
      " Κάθε γενιά κληρονομεί την ιστορία της πατρίδας της και την ενσωματώνει στη δική της πραγματικότητα.. Η ανθρώπινη φύση πάντα έχει αναζητήσει την απάντηση σε ερωτήσεις που αγγίζουν την ουσία της ύπαρξής της.\n"
     ]
    }
   ],
   "source": [
    "# Finish off by printing summary\n",
    "# Step 6 - Offcourse, output the summarize text\n",
    "\n",
    "print(\"Summarize Text: \\n\", \". \".join(summarize_text))"
   ]
  },
  {
   "cell_type": "markdown",
   "id": "10c65092",
   "metadata": {},
   "source": [
    "# FRENCH"
   ]
  },
  {
   "cell_type": "code",
   "execution_count": 15,
   "id": "cfdce0a9",
   "metadata": {},
   "outputs": [
    {
     "name": "stdout",
     "output_type": "stream",
     "text": [
      "Dans le doux éclat de l'aube, le monde semble s'éveiller avec une promesse renouvelée.\n",
      "Les premiers rayons du soleil filtrent à travers les branches des arbres, peignant des motifs d'ombre et de lumière sur le sol encore humide de rosée.\n",
      "Les oiseaux entament leur chant matinal, remplissant l'air de mélodies délicates qui semblent danser avec la brise légère.\n",
      "Au loin, les montagnes se dressent majestueusement, leurs sommets embrassant timidement les nuages qui flottent paresseusement dans le ciel azur.\n",
      "Dans ce tableau enchanteur, la nature semble respirer en harmonie, comme si chaque élément était une pièce essentielle d'un vaste puzzle cosmique.\n",
      "Les fleurs épanouies exhalent leur parfum sucré, attirant les abeilles laborieuses qui s'affairent déjà à leur travail quotidien.\n",
      "Au loin, le bourdonnement familier d'une rivière murmure doucement, tandis que les feuilles des arbres bruissent légèrement dans la brise.\n",
      "C'est un moment de calme et de sérénité, où le temps semble suspendu dans une étreinte éphémère.\n",
      "Et dans cette tranquillité, il est facile de se perdre, de se laisser emporter par la beauté simple et intemporelle de la nature qui nous entoure.\n"
     ]
    }
   ],
   "source": [
    "nlp = spacy.load(\"fr_core_news_sm\")\n",
    "text = \"Dans le doux éclat de l'aube, le monde semble s'éveiller avec une promesse renouvelée. Les premiers rayons du soleil filtrent à travers les branches des arbres, peignant des motifs d'ombre et de lumière sur le sol encore humide de rosée. Les oiseaux entament leur chant matinal, remplissant l'air de mélodies délicates qui semblent danser avec la brise légère. Au loin, les montagnes se dressent majestueusement, leurs sommets embrassant timidement les nuages qui flottent paresseusement dans le ciel azur. Dans ce tableau enchanteur, la nature semble respirer en harmonie, comme si chaque élément était une pièce essentielle d'un vaste puzzle cosmique. Les fleurs épanouies exhalent leur parfum sucré, attirant les abeilles laborieuses qui s'affairent déjà à leur travail quotidien. Au loin, le bourdonnement familier d'une rivière murmure doucement, tandis que les feuilles des arbres bruissent légèrement dans la brise. C'est un moment de calme et de sérénité, où le temps semble suspendu dans une étreinte éphémère. Et dans cette tranquillité, il est facile de se perdre, de se laisser emporter par la beauté simple et intemporelle de la nature qui nous entoure.\"\n",
    "doc = nlp(text)\n",
    "paragraph = list(doc.sents)\n",
    "sentences = []\n",
    "for sentence in paragraph:\n",
    "    print(sentence.text)\n",
    "    sentences.append(sentence.text.replace(\"[^a-zA-Z]\", \" \").split(\" \"))"
   ]
  },
  {
   "cell_type": "code",
   "execution_count": 16,
   "id": "ab833ddc",
   "metadata": {},
   "outputs": [
    {
     "name": "stdout",
     "output_type": "stream",
     "text": [
      "Sentences are  [['Dans', 'le', 'doux', 'éclat', 'de', \"l'aube,\", 'le', 'monde', 'semble', \"s'éveiller\", 'avec', 'une', 'promesse', 'renouvelée.'], ['Les', 'premiers', 'rayons', 'du', 'soleil', 'filtrent', 'à', 'travers', 'les', 'branches', 'des', 'arbres,', 'peignant', 'des', 'motifs', \"d'ombre\", 'et', 'de', 'lumière', 'sur', 'le', 'sol', 'encore', 'humide', 'de', 'rosée.'], ['Les', 'oiseaux', 'entament', 'leur', 'chant', 'matinal,', 'remplissant', \"l'air\", 'de', 'mélodies', 'délicates', 'qui', 'semblent', 'danser', 'avec', 'la', 'brise', 'légère.'], ['Au', 'loin,', 'les', 'montagnes', 'se', 'dressent', 'majestueusement,', 'leurs', 'sommets', 'embrassant', 'timidement', 'les', 'nuages', 'qui', 'flottent', 'paresseusement', 'dans', 'le', 'ciel', 'azur.'], ['Dans', 'ce', 'tableau', 'enchanteur,', 'la', 'nature', 'semble', 'respirer', 'en', 'harmonie,', 'comme', 'si', 'chaque', 'élément', 'était', 'une', 'pièce', 'essentielle', \"d'un\", 'vaste', 'puzzle', 'cosmique.'], ['Les', 'fleurs', 'épanouies', 'exhalent', 'leur', 'parfum', 'sucré,', 'attirant', 'les', 'abeilles', 'laborieuses', 'qui', \"s'affairent\", 'déjà', 'à', 'leur', 'travail', 'quotidien.'], ['Au', 'loin,', 'le', 'bourdonnement', 'familier', \"d'une\", 'rivière', 'murmure', 'doucement,', 'tandis', 'que', 'les', 'feuilles', 'des', 'arbres', 'bruissent', 'légèrement', 'dans', 'la', 'brise.'], [\"C'est\", 'un', 'moment', 'de', 'calme', 'et', 'de', 'sérénité,', 'où', 'le', 'temps', 'semble', 'suspendu', 'dans', 'une', 'étreinte', 'éphémère.'], ['Et', 'dans', 'cette', 'tranquillité,', 'il', 'est', 'facile', 'de', 'se', 'perdre,', 'de', 'se', 'laisser', 'emporter', 'par', 'la', 'beauté', 'simple', 'et', 'intemporelle', 'de', 'la', 'nature', 'qui', 'nous', 'entoure.']]\n"
     ]
    }
   ],
   "source": [
    "# Our data: a list of sentences\n",
    "\n",
    "print(\"Sentences are \", sentences)"
   ]
  },
  {
   "cell_type": "code",
   "execution_count": 17,
   "id": "db1b98a4",
   "metadata": {},
   "outputs": [
    {
     "name": "stdout",
     "output_type": "stream",
     "text": [
      "Smilarity matrix \n",
      " [[0.         0.1767767  0.11785113 0.15990054 0.15990054 0.\n",
      "  0.1677051  0.40147753 0.16222142]\n",
      " [0.1767767  0.         0.16666667 0.18844459 0.         0.18844459\n",
      "  0.19764235 0.24333213 0.22941573]\n",
      " [0.11785113 0.16666667 0.         0.15075567 0.05025189 0.25125945\n",
      "  0.10540926 0.10814761 0.22941573]\n",
      " [0.15990054 0.18844459 0.15075567 0.         0.04545455 0.22727273\n",
      "  0.28603878 0.0978232  0.13834289]\n",
      " [0.15990054 0.         0.05025189 0.04545455 0.         0.\n",
      "  0.09534626 0.1467348  0.13834289]\n",
      " [0.         0.18844459 0.25125945 0.22727273 0.         0.\n",
      "  0.09534626 0.         0.03458572]\n",
      " [0.1677051  0.19764235 0.10540926 0.28603878 0.09534626 0.09534626\n",
      "  0.         0.10259784 0.10882144]\n",
      " [0.40147753 0.24333213 0.10814761 0.0978232  0.1467348  0.\n",
      "  0.10259784 0.         0.33494532]\n",
      " [0.16222142 0.22941573 0.22941573 0.13834289 0.13834289 0.03458572\n",
      "  0.10882144 0.33494532 0.        ]]\n"
     ]
    }
   ],
   "source": [
    "# Create the similarity matrix \n",
    "\n",
    "similarity_matrix = np.zeros((len(sentences), len(sentences)))\n",
    "for idx1 in range(len(sentences)):\n",
    "    for idx2 in range(len(sentences)):\n",
    "        if idx1 == idx2: #ignore if both are same sentences\n",
    "            continue\n",
    "        similarity_matrix[idx1][idx2] = sentence_similarity(sentences[idx1],\n",
    "sentences[idx2])\n",
    "print(\"Smilarity matrix \\n\", similarity_matrix)"
   ]
  },
  {
   "cell_type": "code",
   "execution_count": 18,
   "id": "16206a54",
   "metadata": {},
   "outputs": [
    {
     "name": "stdout",
     "output_type": "stream",
     "text": [
      "scores {0: 0.12441373211305842, 1: 0.12787939963006592, 2: 0.11177315474751812, 3: 0.12104478812209318, 4: 0.06682622157688059, 5: 0.0800828426415029, 6: 0.10969720912151124, 7: 0.1313418211862236, 8: 0.12694083086114624}\n"
     ]
    }
   ],
   "source": [
    "# Get the pagerank scores\n",
    "# Step 3 - Rank sentences in similarity martix\n",
    "\n",
    "sentence_similarity_graph = nx.from_numpy_array(similarity_matrix)\n",
    "scores = nx.pagerank(sentence_similarity_graph)\n",
    "print(\"scores\", scores)"
   ]
  },
  {
   "cell_type": "code",
   "execution_count": 19,
   "id": "0b6bb24e",
   "metadata": {},
   "outputs": [
    {
     "name": "stdout",
     "output_type": "stream",
     "text": [
      "Indexes of top ranked_sentence order are \n",
      "\n",
      " [(0.1313418211862236, [\"C'est\", 'un', 'moment', 'de', 'calme', 'et', 'de', 'sérénité,', 'où', 'le', 'temps', 'semble', 'suspendu', 'dans', 'une', 'étreinte', 'éphémère.']), (0.12787939963006592, ['Les', 'premiers', 'rayons', 'du', 'soleil', 'filtrent', 'à', 'travers', 'les', 'branches', 'des', 'arbres,', 'peignant', 'des', 'motifs', \"d'ombre\", 'et', 'de', 'lumière', 'sur', 'le', 'sol', 'encore', 'humide', 'de', 'rosée.']), (0.12694083086114624, ['Et', 'dans', 'cette', 'tranquillité,', 'il', 'est', 'facile', 'de', 'se', 'perdre,', 'de', 'se', 'laisser', 'emporter', 'par', 'la', 'beauté', 'simple', 'et', 'intemporelle', 'de', 'la', 'nature', 'qui', 'nous', 'entoure.']), (0.12441373211305842, ['Dans', 'le', 'doux', 'éclat', 'de', \"l'aube,\", 'le', 'monde', 'semble', \"s'éveiller\", 'avec', 'une', 'promesse', 'renouvelée.']), (0.12104478812209318, ['Au', 'loin,', 'les', 'montagnes', 'se', 'dressent', 'majestueusement,', 'leurs', 'sommets', 'embrassant', 'timidement', 'les', 'nuages', 'qui', 'flottent', 'paresseusement', 'dans', 'le', 'ciel', 'azur.']), (0.11177315474751812, ['Les', 'oiseaux', 'entament', 'leur', 'chant', 'matinal,', 'remplissant', \"l'air\", 'de', 'mélodies', 'délicates', 'qui', 'semblent', 'danser', 'avec', 'la', 'brise', 'légère.']), (0.10969720912151124, ['Au', 'loin,', 'le', 'bourdonnement', 'familier', \"d'une\", 'rivière', 'murmure', 'doucement,', 'tandis', 'que', 'les', 'feuilles', 'des', 'arbres', 'bruissent', 'légèrement', 'dans', 'la', 'brise.']), (0.0800828426415029, ['Les', 'fleurs', 'épanouies', 'exhalent', 'leur', 'parfum', 'sucré,', 'attirant', 'les', 'abeilles', 'laborieuses', 'qui', \"s'affairent\", 'déjà', 'à', 'leur', 'travail', 'quotidien.']), (0.06682622157688059, ['Dans', 'ce', 'tableau', 'enchanteur,', 'la', 'nature', 'semble', 'respirer', 'en', 'harmonie,', 'comme', 'si', 'chaque', 'élément', 'était', 'une', 'pièce', 'essentielle', \"d'un\", 'vaste', 'puzzle', 'cosmique.'])]\n"
     ]
    }
   ],
   "source": [
    "# Sort sentences by pagerank\n",
    "# Step 4 - Sort the rank and pick top sentences\n",
    "\n",
    "ranked_sentence = sorted(((scores[i],s) for i,s in\n",
    "enumerate(sentences)), reverse=True)\n",
    "print(\"Indexes of top ranked_sentence order are \\n\\n\",\n",
    "ranked_sentence)"
   ]
  },
  {
   "cell_type": "code",
   "execution_count": 20,
   "id": "5d4856bb",
   "metadata": {},
   "outputs": [
    {
     "name": "stdout",
     "output_type": "stream",
     "text": [
      "How many sentences do you want in the summary? 2\n"
     ]
    }
   ],
   "source": [
    "# Pick the top “n” sentences\n",
    "# Step 5 - How many sentences to pick\n",
    "\n",
    "n = int(input(\"How many sentences do you want in the summary? \"))\n",
    "#n=2\n",
    "summarize_text = []\n",
    "for i in range(n):\n",
    "    summarize_text.append(\" \".join(ranked_sentence[i][1]))"
   ]
  },
  {
   "cell_type": "code",
   "execution_count": 21,
   "id": "23e7b07d",
   "metadata": {},
   "outputs": [
    {
     "name": "stdout",
     "output_type": "stream",
     "text": [
      "Summarize Text: \n",
      " C'est un moment de calme et de sérénité, où le temps semble suspendu dans une étreinte éphémère.. Les premiers rayons du soleil filtrent à travers les branches des arbres, peignant des motifs d'ombre et de lumière sur le sol encore humide de rosée.\n"
     ]
    }
   ],
   "source": [
    "# Finish off by printing summary\n",
    "# Step 6 - Offcourse, output the summarize text\n",
    "\n",
    "print(\"Summarize Text: \\n\", \". \".join(summarize_text))"
   ]
  },
  {
   "cell_type": "markdown",
   "id": "501cbb2f",
   "metadata": {},
   "source": [
    "# CHINESE"
   ]
  },
  {
   "cell_type": "code",
   "execution_count": 37,
   "id": "7f4a1c53",
   "metadata": {},
   "outputs": [
    {
     "name": "stdout",
     "output_type": "stream",
     "text": [
      "清晨的微光中，世界仿佛伴随着新的希望而苏醒。第一缕阳光穿过树枝的缝隙，将斑驳的影子投射在泛着露水的大地上。鸟儿开始歌唱，轻柔的旋律伴随着微风在空气中流淌。远处，群山挺立，峰顶似乎与悠闲漂浮的云相触。在这迷人的画面中，大自然似乎和谐共生，每一个元素都像是宇宙巨大拼图中的重要一环。盛开的花朵散发着甜美的芬芳，吸引着勤劳的蜜蜂在早已开始的忙碌中穿梭。远处传来河水轻柔的声音，树叶在微风中轻轻摇曳。这是一种宁静和祥和的时刻，仿佛时间暂时停滞了一般。在这样的宁静中，很容易被周围自然的简单而永恒的美丽所吸引\n",
      "。\n"
     ]
    }
   ],
   "source": [
    "nlp = spacy.load(\"fr_core_news_sm\")\n",
    "text = \"清晨的微光中，世界仿佛伴随着新的希望而苏醒。第一缕阳光穿过树枝的缝隙，将斑驳的影子投射在泛着露水的大地上。鸟儿开始歌唱，轻柔的旋律伴随着微风在空气中流淌。远处，群山挺立，峰顶似乎与悠闲漂浮的云相触。在这迷人的画面中，大自然似乎和谐共生，每一个元素都像是宇宙巨大拼图中的重要一环。盛开的花朵散发着甜美的芬芳，吸引着勤劳的蜜蜂在早已开始的忙碌中穿梭。远处传来河水轻柔的声音，树叶在微风中轻轻摇曳。这是一种宁静和祥和的时刻，仿佛时间暂时停滞了一般。在这样的宁静中，很容易被周围自然的简单而永恒的美丽所吸引。\"\n",
    "doc = nlp(text)\n",
    "paragraph = list(doc.sents)\n",
    "sentences = []\n",
    "for sentence in paragraph:\n",
    "    print(sentence.text)\n",
    "    sentences.append(sentence.text.replace(\"[^a-zA-Z]\", \" \").split(\" \"))"
   ]
  },
  {
   "cell_type": "code",
   "execution_count": 38,
   "id": "a17670a8",
   "metadata": {},
   "outputs": [
    {
     "name": "stdout",
     "output_type": "stream",
     "text": [
      "Sentences are  [['清晨的微光中，世界仿佛伴随着新的希望而苏醒。第一缕阳光穿过树枝的缝隙，将斑驳的影子投射在泛着露水的大地上。鸟儿开始歌唱，轻柔的旋律伴随着微风在空气中流淌。远处，群山挺立，峰顶似乎与悠闲漂浮的云相触。在这迷人的画面中，大自然似乎和谐共生，每一个元素都像是宇宙巨大拼图中的重要一环。盛开的花朵散发着甜美的芬芳，吸引着勤劳的蜜蜂在早已开始的忙碌中穿梭。远处传来河水轻柔的声音，树叶在微风中轻轻摇曳。这是一种宁静和祥和的时刻，仿佛时间暂时停滞了一般。在这样的宁静中，很容易被周围自然的简单而永恒的美丽所吸引'], ['。']]\n"
     ]
    }
   ],
   "source": [
    "# Our data: a list of sentences\n",
    "\n",
    "print(\"Sentences are \", sentences)"
   ]
  },
  {
   "cell_type": "code",
   "execution_count": 39,
   "id": "4a33c18f",
   "metadata": {},
   "outputs": [
    {
     "name": "stdout",
     "output_type": "stream",
     "text": [
      "Smilarity matrix \n",
      " [[0. 0.]\n",
      " [0. 0.]]\n"
     ]
    }
   ],
   "source": [
    "# Create the similarity matrix \n",
    "\n",
    "similarity_matrix = np.zeros((len(sentences), len(sentences)))\n",
    "for idx1 in range(len(sentences)):\n",
    "    for idx2 in range(len(sentences)):\n",
    "        if idx1 == idx2: #ignore if both are same sentences\n",
    "            continue\n",
    "        similarity_matrix[idx1][idx2] = sentence_similarity(sentences[idx1],\n",
    "sentences[idx2])\n",
    "print(\"Smilarity matrix \\n\", similarity_matrix)"
   ]
  },
  {
   "cell_type": "code",
   "execution_count": 40,
   "id": "902c537e",
   "metadata": {},
   "outputs": [
    {
     "name": "stdout",
     "output_type": "stream",
     "text": [
      "scores {0: 0.5, 1: 0.5}\n"
     ]
    }
   ],
   "source": [
    "# Get the pagerank scores\n",
    "# Step 3 - Rank sentences in similarity martix\n",
    "\n",
    "sentence_similarity_graph = nx.from_numpy_array(similarity_matrix)\n",
    "scores = nx.pagerank(sentence_similarity_graph)\n",
    "print(\"scores\", scores)"
   ]
  },
  {
   "cell_type": "code",
   "execution_count": 41,
   "id": "7e3e6b2b",
   "metadata": {},
   "outputs": [
    {
     "name": "stdout",
     "output_type": "stream",
     "text": [
      "Indexes of top ranked_sentence order are \n",
      "\n",
      " [(0.5, ['清晨的微光中，世界仿佛伴随着新的希望而苏醒。第一缕阳光穿过树枝的缝隙，将斑驳的影子投射在泛着露水的大地上。鸟儿开始歌唱，轻柔的旋律伴随着微风在空气中流淌。远处，群山挺立，峰顶似乎与悠闲漂浮的云相触。在这迷人的画面中，大自然似乎和谐共生，每一个元素都像是宇宙巨大拼图中的重要一环。盛开的花朵散发着甜美的芬芳，吸引着勤劳的蜜蜂在早已开始的忙碌中穿梭。远处传来河水轻柔的声音，树叶在微风中轻轻摇曳。这是一种宁静和祥和的时刻，仿佛时间暂时停滞了一般。在这样的宁静中，很容易被周围自然的简单而永恒的美丽所吸引']), (0.5, ['。'])]\n"
     ]
    }
   ],
   "source": [
    "# Sort sentences by pagerank\n",
    "# Step 4 - Sort the rank and pick top sentences\n",
    "\n",
    "ranked_sentence = sorted(((scores[i],s) for i,s in\n",
    "enumerate(sentences)), reverse=True)\n",
    "print(\"Indexes of top ranked_sentence order are \\n\\n\",\n",
    "ranked_sentence)"
   ]
  },
  {
   "cell_type": "code",
   "execution_count": 42,
   "id": "ca99e057",
   "metadata": {},
   "outputs": [
    {
     "name": "stdout",
     "output_type": "stream",
     "text": [
      "How many sentences do you want in the summary? 2\n"
     ]
    }
   ],
   "source": [
    "# Pick the top “n” sentences\n",
    "# Step 5 - How many sentences to pick\n",
    "\n",
    "n = int(input(\"How many sentences do you want in the summary? \"))\n",
    "#n=2\n",
    "summarize_text = []\n",
    "for i in range(n):\n",
    "    summarize_text.append(\" \".join(ranked_sentence[i][1]))"
   ]
  },
  {
   "cell_type": "code",
   "execution_count": 43,
   "id": "25fbe43c",
   "metadata": {},
   "outputs": [
    {
     "name": "stdout",
     "output_type": "stream",
     "text": [
      "Summarize Text: \n",
      " 清晨的微光中，世界仿佛伴随着新的希望而苏醒。第一缕阳光穿过树枝的缝隙，将斑驳的影子投射在泛着露水的大地上。鸟儿开始歌唱，轻柔的旋律伴随着微风在空气中流淌。远处，群山挺立，峰顶似乎与悠闲漂浮的云相触。在这迷人的画面中，大自然似乎和谐共生，每一个元素都像是宇宙巨大拼图中的重要一环。盛开的花朵散发着甜美的芬芳，吸引着勤劳的蜜蜂在早已开始的忙碌中穿梭。远处传来河水轻柔的声音，树叶在微风中轻轻摇曳。这是一种宁静和祥和的时刻，仿佛时间暂时停滞了一般。在这样的宁静中，很容易被周围自然的简单而永恒的美丽所吸引. 。\n"
     ]
    }
   ],
   "source": [
    "# Finish off by printing summary\n",
    "# Step 6 - Offcourse, output the summarize text\n",
    "\n",
    "print(\"Summarize Text: \\n\", \". \".join(summarize_text))"
   ]
  }
 ],
 "metadata": {
  "kernelspec": {
   "display_name": "Python 3 (ipykernel)",
   "language": "python",
   "name": "python3"
  },
  "language_info": {
   "codemirror_mode": {
    "name": "ipython",
    "version": 3
   },
   "file_extension": ".py",
   "mimetype": "text/x-python",
   "name": "python",
   "nbconvert_exporter": "python",
   "pygments_lexer": "ipython3",
   "version": "3.11.5"
  }
 },
 "nbformat": 4,
 "nbformat_minor": 5
}
